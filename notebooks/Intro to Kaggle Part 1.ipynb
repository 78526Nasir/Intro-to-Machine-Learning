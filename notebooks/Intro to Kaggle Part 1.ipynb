{
  "cells": [
    {
      "metadata": {
        "_uuid": "8d09b673b01aec4535788a699de457457db60b1e"
      },
      "cell_type": "markdown",
      "source": "<center>\n    <h1 style=\"font-size:50px;\"> মেশিন কি চিন্তা করতে পারে ? </h1>\n</center>"
    },
    {
      "metadata": {
        "_uuid": "6b0462487eba5c3c993d8d6c943fbf2a78d4b2a8"
      },
      "cell_type": "markdown",
      "source": "# জরুরী প্যাকেজগুলা লিখে ফেলি.."
    },
    {
      "metadata": {
        "trusted": true,
        "_uuid": "18cf73ecaf8665a292eccfb9df626ec75cd8aeab"
      },
      "cell_type": "code",
      "source": "# your code goes here",
      "execution_count": null,
      "outputs": []
    },
    {
      "metadata": {
        "_uuid": "e8d9305aee9ffd30d382b36c56798f809a7d48b2"
      },
      "cell_type": "markdown",
      "source": "![necessary_packages](https://res.cloudinary.com/nasir78526/image/upload/q_100/v1538526934/Intro%20to%20Machine%20Learning/necessary_packages.png)"
    },
    {
      "metadata": {
        "_uuid": "3717e8c938fac5190a5d9ddf5c2955a085f07331"
      },
      "cell_type": "markdown",
      "source": "# আমাদের ডাটাসেট কোথায় আছে? এবং কি কি ফাইল আছে ঐখানে ? "
    },
    {
      "metadata": {
        "_cell_guid": "79c7e3d0-c299-4dcb-8224-4455121ee9b0",
        "_uuid": "d629ff2d2480ee46fbb7e2d37f6b5fab8052498a",
        "trusted": true
      },
      "cell_type": "code",
      "source": "# your code goes here",
      "execution_count": null,
      "outputs": []
    },
    {
      "metadata": {
        "_uuid": "1e9dfeba009d7c9aa10e2824cbc85a61d98eaab1"
      },
      "cell_type": "markdown",
      "source": "![working_datasets](https://res.cloudinary.com/nasir78526/image/upload/q_100/v1538526665/Intro%20to%20Machine%20Learning/working_directory.png)"
    },
    {
      "metadata": {
        "_uuid": "4b3344a1b7a4017ea24062d92240451b81ee0665"
      },
      "cell_type": "markdown",
      "source": "# ডাটাসেট তো দেখলাম ! এখন এটা নিয়ে কাজ করবো কিভাবে ? 😟"
    },
    {
      "metadata": {
        "_uuid": "93a282458827d99cc24db0a6f3f2fae6d1d2717f"
      },
      "cell_type": "markdown",
      "source": "### চলুন ডাটাসেট আগে লোড করি আমাদের ওয়ার্কিং পরিবেশে... "
    },
    {
      "metadata": {
        "_uuid": "0bbc494d122827d973e5847ea0df02af142cb320"
      },
      "cell_type": "markdown",
      "source": "![load_datasets](https://res.cloudinary.com/nasir78526/image/upload/q_100/v1538527408/Intro%20to%20Machine%20Learning/load_datasets.png)"
    },
    {
      "metadata": {
        "trusted": true,
        "_uuid": "e6dc73eb7593fdb1284c1ee48a9b5dbda34d7212"
      },
      "cell_type": "code",
      "source": "# your code goes here",
      "execution_count": null,
      "outputs": []
    },
    {
      "metadata": {
        "_uuid": "0f158e0a5ae41a6022c23dd1a40d5b582d680e79"
      },
      "cell_type": "markdown",
      "source": "# ডাটাসেট তো লোড করলাম ! এখন এগুলাতে কি আছে দেখবো কিভাবে ? 😥"
    },
    {
      "metadata": {
        "_uuid": "53672c244011b5dc0523a5e6ced9d1268f9de4dd"
      },
      "cell_type": "markdown",
      "source": "## নীচের ট্রেইন ডাটাসেটের একটা অংশের ছবি দেয়া হইছে ! "
    },
    {
      "metadata": {
        "_uuid": "793c6487a42c2d265d6ca4f94f0a150320699431"
      },
      "cell_type": "markdown",
      "source": "![train_dataset](https://res.cloudinary.com/nasir78526/image/upload/q_100/v1538528106/Intro%20to%20Machine%20Learning/train.png)"
    },
    {
      "metadata": {
        "trusted": true,
        "_uuid": "b1e96694ce6f4753ce365f524edcd524dd8941ce"
      },
      "cell_type": "code",
      "source": "# your code goes here",
      "execution_count": null,
      "outputs": []
    },
    {
      "metadata": {
        "_uuid": "972bc9316e31caae2aab33f7798633bc8ee3f233"
      },
      "cell_type": "markdown",
      "source": "## টেষ্ট ডাটাসেট লোড করে ফেলি নীচে দেয়া ছবির মতো করে! 🙊"
    },
    {
      "metadata": {
        "_uuid": "6c78a21f491cc791391c2fff6fd671aa6181ad00"
      },
      "cell_type": "markdown",
      "source": "![test_dataset](https://res.cloudinary.com/nasir78526/image/upload/q_100/v1538528360/Intro%20to%20Machine%20Learning/test.png)"
    },
    {
      "metadata": {
        "trusted": true,
        "_uuid": "0aca811bb3465ecee168b8178665ed78005baf6b"
      },
      "cell_type": "code",
      "source": "# your code goes here ",
      "execution_count": null,
      "outputs": []
    },
    {
      "metadata": {
        "trusted": true,
        "_uuid": "9611668fec4974ce46de3629afdd99ec3c3cdda4"
      },
      "cell_type": "code",
      "source": "# your code goes here",
      "execution_count": null,
      "outputs": []
    },
    {
      "metadata": {
        "_uuid": "466eaca6cde569f22a23409a8defe0feaca89444"
      },
      "cell_type": "markdown",
      "source": "# ধন্যবাদ এই পর্যন্ত কাজ সম্পন্ন করার জন্য! 👌"
    }
  ],
  "metadata": {
    "kernelspec": {
      "display_name": "Python 3",
      "language": "python",
      "name": "python3"
    },
    "language_info": {
      "name": "python",
      "version": "3.6.6",
      "mimetype": "text/x-python",
      "codemirror_mode": {
        "name": "ipython",
        "version": 3
      },
      "pygments_lexer": "ipython3",
      "nbconvert_exporter": "python",
      "file_extension": ".py"
    }
  },
  "nbformat": 4,
  "nbformat_minor": 1
}