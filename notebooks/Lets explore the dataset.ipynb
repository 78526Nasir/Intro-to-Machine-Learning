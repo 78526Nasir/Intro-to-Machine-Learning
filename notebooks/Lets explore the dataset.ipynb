{
  "cells": [
    {
      "metadata": {
        "_uuid": "98a5746529ec24d5c3a2b794a328d6299ae34b62"
      },
      "cell_type": "markdown",
      "source": "<center>\n<h1 style=\"font-size:50px\">মেশিন কি চিন্তা করতে পারে ? </h1>\n<center>"
    },
    {
      "metadata": {
        "_uuid": "8f2839f25d086af736a60e9eeb907d3b93b6e0e5",
        "_cell_guid": "b1076dfc-b9ad-4769-8c92-a6c4dae69d19",
        "trusted": true
      },
      "cell_type": "code",
      "source": "import numpy as np \nimport pandas as pd \nimport matplotlib.pyplot as plt\n%matplotlib inline",
      "execution_count": null,
      "outputs": []
    },
    {
      "metadata": {
        "_cell_guid": "79c7e3d0-c299-4dcb-8224-4455121ee9b0",
        "_uuid": "d629ff2d2480ee46fbb7e2d37f6b5fab8052498a",
        "trusted": true
      },
      "cell_type": "code",
      "source": "# load datset",
      "execution_count": null,
      "outputs": []
    },
    {
      "metadata": {
        "trusted": true,
        "_uuid": "645ddf9db46d13090862c5d28e10737272aac12f"
      },
      "cell_type": "code",
      "source": "# display top five rows from train dataset",
      "execution_count": null,
      "outputs": []
    },
    {
      "metadata": {
        "trusted": true,
        "_uuid": "cb4e9333db3f82710313d848f1aa46835e750f98"
      },
      "cell_type": "code",
      "source": "# display five rows from the tail of train dataset",
      "execution_count": null,
      "outputs": []
    },
    {
      "metadata": {
        "trusted": true,
        "_uuid": "dcce26a018a26b6c56b0f7c8a5fc0285678e80ce"
      },
      "cell_type": "code",
      "source": "# display top 10 rows from test dataset",
      "execution_count": null,
      "outputs": []
    },
    {
      "metadata": {
        "_uuid": "8bbcb1ed54f8a1bdf7ddb9f122534111c2a85cef"
      },
      "cell_type": "markdown",
      "source": "## ডাটা  স্ট্যাটিস্টিকাল সামারি জানবো কিভাবে ?"
    },
    {
      "metadata": {
        "_uuid": "6bcd988ea01d841b9c899325eafbbca9682af13f"
      },
      "cell_type": "markdown",
      "source": "![dataset_description](https://res.cloudinary.com/nasir78526/image/upload/q_100/v1538533958/Intro%20to%20Machine%20Learning/dataset_describe.png)"
    },
    {
      "metadata": {
        "trusted": true,
        "_uuid": "885d099b8bbb8c422ba2036f4db80ac003e37928"
      },
      "cell_type": "code",
      "source": "# your code goes here",
      "execution_count": null,
      "outputs": []
    },
    {
      "metadata": {
        "_uuid": "a48b064c33826532db08a01a1efd6078f349a655"
      },
      "cell_type": "markdown",
      "source": "## ডাটাসেটের আকার আকৃতি কিভাবে জানবো ?"
    },
    {
      "metadata": {
        "trusted": true,
        "_uuid": "797ae6c861bf50e3c056f143f1fef4572165f29b"
      },
      "cell_type": "code",
      "source": "# your code goes here",
      "execution_count": null,
      "outputs": []
    },
    {
      "metadata": {
        "_uuid": "ccb284e7659e87ce9a5400cf53b04b9439ae3f7b"
      },
      "cell_type": "markdown",
      "source": "## ডাটাসেটের মধ্যে কি কি কলাম আছে ?  কোনগুলো ফিয়েচার আর কোনটা লেভেল ?"
    },
    {
      "metadata": {
        "trusted": true,
        "_uuid": "35509d855e6ed8352e220d8d36152079da66773f"
      },
      "cell_type": "code",
      "source": "# your code goes here",
      "execution_count": null,
      "outputs": []
    },
    {
      "metadata": {
        "_uuid": "b2fb57c390df22e5da7ab246942c91b06c8eaa33"
      },
      "cell_type": "markdown",
      "source": "## কোরিলেশন কো-এফিশিয়েন্ট কি? কিভাবে বাহির করতে হয় ?"
    },
    {
      "metadata": {
        "trusted": true,
        "_uuid": "e287eaab38c4d1ad10dd5a584c29848e8b89c75e"
      },
      "cell_type": "code",
      "source": "# your code goes here",
      "execution_count": null,
      "outputs": []
    },
    {
      "metadata": {
        "_uuid": "c7a09e00adb1e387a4ad951f23f9d16209082de7"
      },
      "cell_type": "markdown",
      "source": "# ইউনিভেরিয়েট অ্যানালাইসিস কি ?"
    },
    {
      "metadata": {
        "_uuid": "6f7595e6465d2e253ee30f9cc2a550125c0536f1"
      },
      "cell_type": "markdown",
      "source": "## ডাটাসেটে কয়টা ছাত্র আর কয়টা ছাত্রী আছে?"
    },
    {
      "metadata": {
        "trusted": true,
        "_uuid": "166a8296c8213c9193f071e501287c1fff3344d2"
      },
      "cell_type": "code",
      "source": "# your code goes here",
      "execution_count": null,
      "outputs": []
    },
    {
      "metadata": {
        "_uuid": "f07391f015746ec658d305feaecbe3b482821f79"
      },
      "cell_type": "markdown",
      "source": "## ডাটাসেটে কয়টা ইউনিক দেশ/জাতীয়তা  আছে?"
    },
    {
      "metadata": {
        "trusted": true,
        "_uuid": "eb5ad21fc6fbf6677d2bbf33df3a2765c00168dd"
      },
      "cell_type": "code",
      "source": "# your code goes here",
      "execution_count": null,
      "outputs": []
    },
    {
      "metadata": {
        "trusted": true,
        "_uuid": "b5ccbdcfa98d8628489b9b7720475abf3b74d1e9"
      },
      "cell_type": "code",
      "source": "# your code goes here",
      "execution_count": null,
      "outputs": []
    },
    {
      "metadata": {
        "trusted": true,
        "_uuid": "2fda60174ff66bffa84fcee7275d25ace9cf5900"
      },
      "cell_type": "code",
      "source": "# your code goes here",
      "execution_count": null,
      "outputs": []
    },
    {
      "metadata": {
        "trusted": true,
        "_uuid": "2f27809a8b129f79f18ba611d501623cc921a5ce"
      },
      "cell_type": "code",
      "source": "# your code goes here",
      "execution_count": null,
      "outputs": []
    },
    {
      "metadata": {
        "trusted": true,
        "_uuid": "45f25ba9f8a85cdfe9426e9f6ab8b85adba6722a"
      },
      "cell_type": "code",
      "source": "# your code goes here",
      "execution_count": null,
      "outputs": []
    },
    {
      "metadata": {
        "trusted": true,
        "_uuid": "da3f7b25f6cf63616bcc965183d02d4b5c2f07b2"
      },
      "cell_type": "code",
      "source": "# your code goes here",
      "execution_count": null,
      "outputs": []
    },
    {
      "metadata": {
        "trusted": true,
        "_uuid": "fcf108f8df861e63496b5bcc2dd1356f47d7d4b6"
      },
      "cell_type": "code",
      "source": "# your code goes here",
      "execution_count": null,
      "outputs": []
    },
    {
      "metadata": {
        "_uuid": "5265910b155f13e26fdf7f30e5980420a7eb3a59"
      },
      "cell_type": "markdown",
      "source": "# ধন্যবাদ এই পর্যন্ত কাজ সম্পন্ন করার জন্য! 👌"
    }
  ],
  "metadata": {
    "kernelspec": {
      "display_name": "Python 3",
      "language": "python",
      "name": "python3"
    },
    "language_info": {
      "name": "python",
      "version": "3.6.6",
      "mimetype": "text/x-python",
      "codemirror_mode": {
        "name": "ipython",
        "version": 3
      },
      "pygments_lexer": "ipython3",
      "nbconvert_exporter": "python",
      "file_extension": ".py"
    }
  },
  "nbformat": 4,
  "nbformat_minor": 1
}