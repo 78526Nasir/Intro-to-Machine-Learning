{
  "cells": [
    {
      "metadata": {
        "_uuid": "a5e29dd78603bfc597100284544fc5e8688a1b00"
      },
      "cell_type": "markdown",
      "source": "<center>\n<h1 style=\"font-size:50px\">মেশিন কি চিন্তা করতে পারে ? </h1>\n<center>"
    },
    {
      "metadata": {
        "_uuid": "8f2839f25d086af736a60e9eeb907d3b93b6e0e5",
        "_cell_guid": "b1076dfc-b9ad-4769-8c92-a6c4dae69d19",
        "trusted": true
      },
      "cell_type": "code",
      "source": "# load necessary packages",
      "execution_count": null,
      "outputs": []
    },
    {
      "metadata": {
        "_cell_guid": "79c7e3d0-c299-4dcb-8224-4455121ee9b0",
        "_uuid": "d629ff2d2480ee46fbb7e2d37f6b5fab8052498a",
        "trusted": true
      },
      "cell_type": "code",
      "source": "# load dataset",
      "execution_count": null,
      "outputs": []
    },
    {
      "metadata": {
        "trusted": true,
        "_uuid": "090e014eb47a1f8540ef9dc71499e7e275c15819"
      },
      "cell_type": "code",
      "source": "# display the datasets",
      "execution_count": null,
      "outputs": []
    },
    {
      "metadata": {
        "trusted": true,
        "_uuid": "0f8b0a2ebd829111684af6fb08338a6398c103de"
      },
      "cell_type": "code",
      "source": "# split the feature and labels",
      "execution_count": null,
      "outputs": []
    },
    {
      "metadata": {
        "trusted": true,
        "_uuid": "442853a8167e502af25eed1e626fdb0d66ab7680"
      },
      "cell_type": "code",
      "source": "# initiate classifier",
      "execution_count": null,
      "outputs": []
    },
    {
      "metadata": {
        "trusted": true,
        "_uuid": "b8e6722f9dec29af6811801c1e7463308df12284"
      },
      "cell_type": "code",
      "source": "# feed the classifier",
      "execution_count": null,
      "outputs": []
    },
    {
      "metadata": {
        "_uuid": "a7046d68b061261867672dffb46ec0e02d9476fe"
      },
      "cell_type": "markdown",
      "source": "# Oh No ! An error Occured ! 😠"
    },
    {
      "metadata": {
        "trusted": true,
        "_uuid": "c3144f02b4d64e52b8beb21adc7666d9b43d8be1"
      },
      "cell_type": "code",
      "source": "# find the error",
      "execution_count": null,
      "outputs": []
    },
    {
      "metadata": {
        "trusted": true,
        "_uuid": "8593bc609479460fc107f5b869761d52556c5448"
      },
      "cell_type": "code",
      "source": "# select only numeric columns",
      "execution_count": null,
      "outputs": []
    },
    {
      "metadata": {
        "trusted": true,
        "_uuid": "0ecb467d429b469515202187cce020449be70cd9"
      },
      "cell_type": "code",
      "source": "# again try to feed the new dataset with less columns",
      "execution_count": null,
      "outputs": []
    },
    {
      "metadata": {
        "trusted": true,
        "_uuid": "8397bb3464fa4ef36db2e07bb7bd167198e1fd49"
      },
      "cell_type": "code",
      "source": "# make prediction on new dataset",
      "execution_count": null,
      "outputs": []
    },
    {
      "metadata": {
        "trusted": true,
        "_uuid": "1f92971983a30b183bf947ac0ecaaf08ee8abde0"
      },
      "cell_type": "code",
      "source": "# check the accuracy score",
      "execution_count": null,
      "outputs": []
    },
    {
      "metadata": {
        "trusted": true,
        "_uuid": "76e2e7ef20e5060ec1e16445c3c0bfeee340b9d4"
      },
      "cell_type": "code",
      "source": "# make prediction on test dataset",
      "execution_count": null,
      "outputs": []
    },
    {
      "metadata": {
        "trusted": true,
        "_uuid": "320ff2e2ab6e45db1afa81d502f3fc1a38c6e987"
      },
      "cell_type": "code",
      "source": "# make a submission.csv file",
      "execution_count": null,
      "outputs": []
    },
    {
      "metadata": {
        "_uuid": "6a96f2bd1430138c375464819ad85b7b23a089f8"
      },
      "cell_type": "markdown",
      "source": "# ধন্যবাদ এই পর্যন্ত কাজ সম্পন্ন করার জন্য! 👌"
    }
  ],
  "metadata": {
    "kernelspec": {
      "display_name": "Python 3",
      "language": "python",
      "name": "python3"
    },
    "language_info": {
      "name": "python",
      "version": "3.6.6",
      "mimetype": "text/x-python",
      "codemirror_mode": {
        "name": "ipython",
        "version": 3
      },
      "pygments_lexer": "ipython3",
      "nbconvert_exporter": "python",
      "file_extension": ".py"
    }
  },
  "nbformat": 4,
  "nbformat_minor": 1
}